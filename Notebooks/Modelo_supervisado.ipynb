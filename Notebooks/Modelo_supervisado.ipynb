{
 "cells": [
  {
   "cell_type": "markdown",
   "metadata": {},
   "source": [
    "## **Modelo Supervisado (ML)**"
   ]
  },
  {
   "cell_type": "markdown",
   "metadata": {},
   "source": [
    "**Tabla de contenido** \n",
    "- **Modelo Supervisado (ML)**\n",
    "  - **Introducción**    \n",
    "  - **Cargar datos**\n",
    "  - **Visualizar los datos**\n",
    "  - **Preprocesamiento**\n",
    "  - **Codificar y segmentar los datos** \n",
    "  - **Entrenar modelos**\n",
    "    - **Entrenar modelo con desequilibrio**    \n",
    "    - **Entrenar modelo sin desequilibrio**   \n",
    "    - **Escalado de Características**    \n",
    "    - **Sobremuestreo**   \n",
    "    - **Árbol de decisiones**    \n",
    "    - **Bosque aleatorio**   \n",
    "    - **Regresión logística**    \n",
    "  - **Seleccionar el modelo con mayor calidad**    \n",
    "  - **Mejor Modelo**\n",
    "  - **Conclusiones**    "
   ]
  },
  {
   "cell_type": "markdown",
   "metadata": {},
   "source": [
    "##  **Introducción**"
   ]
  },
  {
   "cell_type": "markdown",
   "metadata": {},
   "source": [
    "Necesitamos predecir si un cliente dejará el banco pronto. Los datos que se utilizaran indican el el comportamiento pasado de los clientes y la terminación de contratos con el banco.\n",
    "\n",
    "- **Objetivo:** Crer un modelo con el máximo valor F1 posible. Para aprobar la revisión, es necesario un valor F1 de al menos 0.59 y un AUC-ROC mayor de 0.70."
   ]
  },
  {
   "cell_type": "markdown",
   "metadata": {},
   "source": [
    "- **Plan de Trabajo**\n",
    "    - Visualizar los datos\n",
    "    - Aplicar Preprocesamiento (ausentes, duplicados, encabezados)\n",
    "    - Codificar y segmentar los datos\n",
    "    - Crear los modelos\n",
    "        - Colocar a prueba sin revisar si hay desequilibrio en los datos\n",
    "        - Verificar el desequilibrio de los datos\n",
    "        - Utilizar varios modelos de clasificación\n",
    "    - Seleccionar cual modelo tenga el resultado que cumpla mejor el objetivo\n",
    "    - Conclusiones y recomendaciones"
   ]
  },
  {
   "cell_type": "markdown",
   "metadata": {},
   "source": [
    "## **Cargar datos**"
   ]
  },
  {
   "cell_type": "code",
   "execution_count": 43,
   "metadata": {},
   "outputs": [],
   "source": [
    "#Importar librerías\n",
    "import pandas as pd\n",
    "import matplotlib.pyplot as plt\n",
    "import seaborn as sns\n",
    "import numpy as np\n",
    "from sklearn.model_selection import train_test_split, GridSearchCV\n",
    "from sklearn.preprocessing import OrdinalEncoder, StandardScaler\n",
    "from sklearn.metrics import f1_score, roc_auc_score, recall_score, precision_score\n",
    "from sklearn.utils import shuffle\n",
    "from sklearn.ensemble import RandomForestClassifier\n",
    "from sklearn.tree import DecisionTreeClassifier\n",
    "from sklearn.linear_model import LogisticRegression\n",
    "from sklearn.dummy import DummyClassifier"
   ]
  },
  {
   "cell_type": "code",
   "execution_count": 44,
   "metadata": {},
   "outputs": [],
   "source": [
    "#Cargar archivos\n",
    "try:\n",
    "    df = pd.read_csv('../data/Churn.csv')\n",
    "except:\n",
    "    df = pd.read_csv('/datasets/Churn.csv')"
   ]
  },
  {
   "cell_type": "markdown",
   "metadata": {},
   "source": [
    "## **Visualizar los datos**"
   ]
  },
  {
   "cell_type": "code",
   "execution_count": 45,
   "metadata": {},
   "outputs": [
    {
     "data": {
      "text/html": [
       "<div>\n",
       "<style scoped>\n",
       "    .dataframe tbody tr th:only-of-type {\n",
       "        vertical-align: middle;\n",
       "    }\n",
       "\n",
       "    .dataframe tbody tr th {\n",
       "        vertical-align: top;\n",
       "    }\n",
       "\n",
       "    .dataframe thead th {\n",
       "        text-align: right;\n",
       "    }\n",
       "</style>\n",
       "<table border=\"1\" class=\"dataframe\">\n",
       "  <thead>\n",
       "    <tr style=\"text-align: right;\">\n",
       "      <th></th>\n",
       "      <th>RowNumber</th>\n",
       "      <th>CustomerId</th>\n",
       "      <th>Surname</th>\n",
       "      <th>CreditScore</th>\n",
       "      <th>Geography</th>\n",
       "      <th>Gender</th>\n",
       "      <th>Age</th>\n",
       "      <th>Tenure</th>\n",
       "      <th>Balance</th>\n",
       "      <th>NumOfProducts</th>\n",
       "      <th>HasCrCard</th>\n",
       "      <th>IsActiveMember</th>\n",
       "      <th>EstimatedSalary</th>\n",
       "      <th>Exited</th>\n",
       "    </tr>\n",
       "  </thead>\n",
       "  <tbody>\n",
       "    <tr>\n",
       "      <th>9995</th>\n",
       "      <td>9996</td>\n",
       "      <td>15606229</td>\n",
       "      <td>Obijiaku</td>\n",
       "      <td>771</td>\n",
       "      <td>France</td>\n",
       "      <td>Male</td>\n",
       "      <td>39</td>\n",
       "      <td>5.0</td>\n",
       "      <td>0.00</td>\n",
       "      <td>2</td>\n",
       "      <td>1</td>\n",
       "      <td>0</td>\n",
       "      <td>96270.64</td>\n",
       "      <td>0</td>\n",
       "    </tr>\n",
       "    <tr>\n",
       "      <th>9996</th>\n",
       "      <td>9997</td>\n",
       "      <td>15569892</td>\n",
       "      <td>Johnstone</td>\n",
       "      <td>516</td>\n",
       "      <td>France</td>\n",
       "      <td>Male</td>\n",
       "      <td>35</td>\n",
       "      <td>10.0</td>\n",
       "      <td>57369.61</td>\n",
       "      <td>1</td>\n",
       "      <td>1</td>\n",
       "      <td>1</td>\n",
       "      <td>101699.77</td>\n",
       "      <td>0</td>\n",
       "    </tr>\n",
       "    <tr>\n",
       "      <th>9997</th>\n",
       "      <td>9998</td>\n",
       "      <td>15584532</td>\n",
       "      <td>Liu</td>\n",
       "      <td>709</td>\n",
       "      <td>France</td>\n",
       "      <td>Female</td>\n",
       "      <td>36</td>\n",
       "      <td>7.0</td>\n",
       "      <td>0.00</td>\n",
       "      <td>1</td>\n",
       "      <td>0</td>\n",
       "      <td>1</td>\n",
       "      <td>42085.58</td>\n",
       "      <td>1</td>\n",
       "    </tr>\n",
       "    <tr>\n",
       "      <th>9998</th>\n",
       "      <td>9999</td>\n",
       "      <td>15682355</td>\n",
       "      <td>Sabbatini</td>\n",
       "      <td>772</td>\n",
       "      <td>Germany</td>\n",
       "      <td>Male</td>\n",
       "      <td>42</td>\n",
       "      <td>3.0</td>\n",
       "      <td>75075.31</td>\n",
       "      <td>2</td>\n",
       "      <td>1</td>\n",
       "      <td>0</td>\n",
       "      <td>92888.52</td>\n",
       "      <td>1</td>\n",
       "    </tr>\n",
       "    <tr>\n",
       "      <th>9999</th>\n",
       "      <td>10000</td>\n",
       "      <td>15628319</td>\n",
       "      <td>Walker</td>\n",
       "      <td>792</td>\n",
       "      <td>France</td>\n",
       "      <td>Female</td>\n",
       "      <td>28</td>\n",
       "      <td>NaN</td>\n",
       "      <td>130142.79</td>\n",
       "      <td>1</td>\n",
       "      <td>1</td>\n",
       "      <td>0</td>\n",
       "      <td>38190.78</td>\n",
       "      <td>0</td>\n",
       "    </tr>\n",
       "  </tbody>\n",
       "</table>\n",
       "</div>"
      ],
      "text/plain": [
       "      RowNumber  CustomerId    Surname  CreditScore Geography  Gender  Age  \\\n",
       "9995       9996    15606229   Obijiaku          771    France    Male   39   \n",
       "9996       9997    15569892  Johnstone          516    France    Male   35   \n",
       "9997       9998    15584532        Liu          709    France  Female   36   \n",
       "9998       9999    15682355  Sabbatini          772   Germany    Male   42   \n",
       "9999      10000    15628319     Walker          792    France  Female   28   \n",
       "\n",
       "      Tenure    Balance  NumOfProducts  HasCrCard  IsActiveMember  \\\n",
       "9995     5.0       0.00              2          1               0   \n",
       "9996    10.0   57369.61              1          1               1   \n",
       "9997     7.0       0.00              1          0               1   \n",
       "9998     3.0   75075.31              2          1               0   \n",
       "9999     NaN  130142.79              1          1               0   \n",
       "\n",
       "      EstimatedSalary  Exited  \n",
       "9995         96270.64       0  \n",
       "9996        101699.77       0  \n",
       "9997         42085.58       1  \n",
       "9998         92888.52       1  \n",
       "9999         38190.78       0  "
      ]
     },
     "execution_count": 45,
     "metadata": {},
     "output_type": "execute_result"
    }
   ],
   "source": [
    "#Visualizar df\n",
    "df.tail()"
   ]
  },
  {
   "cell_type": "code",
   "execution_count": 46,
   "metadata": {},
   "outputs": [
    {
     "name": "stdout",
     "output_type": "stream",
     "text": [
      "<class 'pandas.core.frame.DataFrame'>\n",
      "RangeIndex: 10000 entries, 0 to 9999\n",
      "Data columns (total 14 columns):\n",
      " #   Column           Non-Null Count  Dtype  \n",
      "---  ------           --------------  -----  \n",
      " 0   RowNumber        10000 non-null  int64  \n",
      " 1   CustomerId       10000 non-null  int64  \n",
      " 2   Surname          10000 non-null  object \n",
      " 3   CreditScore      10000 non-null  int64  \n",
      " 4   Geography        10000 non-null  object \n",
      " 5   Gender           10000 non-null  object \n",
      " 6   Age              10000 non-null  int64  \n",
      " 7   Tenure           9091 non-null   float64\n",
      " 8   Balance          10000 non-null  float64\n",
      " 9   NumOfProducts    10000 non-null  int64  \n",
      " 10  HasCrCard        10000 non-null  int64  \n",
      " 11  IsActiveMember   10000 non-null  int64  \n",
      " 12  EstimatedSalary  10000 non-null  float64\n",
      " 13  Exited           10000 non-null  int64  \n",
      "dtypes: float64(3), int64(8), object(3)\n",
      "memory usage: 1.1+ MB\n"
     ]
    }
   ],
   "source": [
    "#Información general del df\n",
    "df.info()"
   ]
  },
  {
   "cell_type": "code",
   "execution_count": 47,
   "metadata": {},
   "outputs": [
    {
     "data": {
      "text/plain": [
       "RowNumber            int64\n",
       "CustomerId           int64\n",
       "Surname             object\n",
       "CreditScore          int64\n",
       "Geography           object\n",
       "Gender              object\n",
       "Age                  int64\n",
       "Tenure             float64\n",
       "Balance            float64\n",
       "NumOfProducts        int64\n",
       "HasCrCard            int64\n",
       "IsActiveMember       int64\n",
       "EstimatedSalary    float64\n",
       "Exited               int64\n",
       "dtype: object"
      ]
     },
     "execution_count": 47,
     "metadata": {},
     "output_type": "execute_result"
    }
   ],
   "source": [
    "#Tipos de datos en el df\n",
    "df.dtypes"
   ]
  },
  {
   "cell_type": "code",
   "execution_count": 48,
   "metadata": {},
   "outputs": [
    {
     "data": {
      "text/plain": [
       "RowNumber            0\n",
       "CustomerId           0\n",
       "Surname              0\n",
       "CreditScore          0\n",
       "Geography            0\n",
       "Gender               0\n",
       "Age                  0\n",
       "Tenure             909\n",
       "Balance              0\n",
       "NumOfProducts        0\n",
       "HasCrCard            0\n",
       "IsActiveMember       0\n",
       "EstimatedSalary      0\n",
       "Exited               0\n",
       "dtype: int64"
      ]
     },
     "execution_count": 48,
     "metadata": {},
     "output_type": "execute_result"
    }
   ],
   "source": [
    "#Chequeo de valores ausentes\n",
    "df.isna().sum()"
   ]
  },
  {
   "cell_type": "code",
   "execution_count": 49,
   "metadata": {},
   "outputs": [
    {
     "data": {
      "text/plain": [
       "0"
      ]
     },
     "execution_count": 49,
     "metadata": {},
     "output_type": "execute_result"
    }
   ],
   "source": [
    "#Verificar valores duplicados\n",
    "df.duplicated().sum()"
   ]
  },
  {
   "cell_type": "code",
   "execution_count": 50,
   "metadata": {},
   "outputs": [
    {
     "data": {
      "text/plain": [
       "Index(['RowNumber', 'CustomerId', 'Surname', 'CreditScore', 'Geography',\n",
       "       'Gender', 'Age', 'Tenure', 'Balance', 'NumOfProducts', 'HasCrCard',\n",
       "       'IsActiveMember', 'EstimatedSalary', 'Exited'],\n",
       "      dtype='object')"
      ]
     },
     "execution_count": 50,
     "metadata": {},
     "output_type": "execute_result"
    }
   ],
   "source": [
    "#Estructura en los encabezados de las columnas\n",
    "df.columns"
   ]
  },
  {
   "cell_type": "markdown",
   "metadata": {},
   "source": [
    "- **Contenido**\n",
    "    - `RowNumber`: índice de cadena de datos\n",
    "    - `CustomerId`: identificador de cliente único\n",
    "    - `Surname`: apellido\n",
    "    - `CreditScore`: valor de crédito\n",
    "    - `Geography`: país de residencia\n",
    "    - `Gender`: sexo\n",
    "    - `Age`: edad\n",
    "    - `Tenure`: período durante el cual ha madurado el depósito a plazo fijo de un cliente (años)\n",
    "    - `Balance`: saldo de la cuenta\n",
    "    - `NumOfProducts`: número de productos bancarios utilizados por el cliente\n",
    "    - `HasCrCard`: el cliente tiene una tarjeta de crédito (1 - sí; 0 - no)\n",
    "    - `IsActiveMember`: actividad del cliente (1 - sí; 0 - no)\n",
    "    - `EstimatedSalary`: salario estimado\n",
    "    - `Exited`: El cliente se ha ido (1 - sí; 0 - no)"
   ]
  },
  {
   "cell_type": "markdown",
   "metadata": {},
   "source": [
    "La visualización de los datos nos arroja que:\n",
    "- La base de datos es de 10000 filas.\n",
    "- En la columna `tenure` tiene 909 valores ausentes.\n",
    "- No hay datos duplicados.\n",
    "- Los encabezados de las columnas tienen mayúsculas, lo que puede dificultar la redacción de código.\n",
    "- La columna objetivo es `Exited`."
   ]
  },
  {
   "cell_type": "markdown",
   "metadata": {},
   "source": [
    "## **Preprocesamiento**"
   ]
  },
  {
   "cell_type": "code",
   "execution_count": 51,
   "metadata": {},
   "outputs": [
    {
     "data": {
      "text/plain": [
       "Index(['rownumber', 'customerid', 'surname', 'creditscore', 'geography',\n",
       "       'gender', 'age', 'tenure', 'balance', 'numofproducts', 'hascrcard',\n",
       "       'isactivemember', 'estimatedsalary', 'exited'],\n",
       "      dtype='object')"
      ]
     },
     "execution_count": 51,
     "metadata": {},
     "output_type": "execute_result"
    }
   ],
   "source": [
    "#Arreglar el nombre de las columnas\n",
    "df.columns = df.columns.str.lower()\n",
    "df.columns"
   ]
  },
  {
   "cell_type": "code",
   "execution_count": 52,
   "metadata": {},
   "outputs": [
    {
     "data": {
      "text/plain": [
       "array([ 2.,  1.,  8.,  7.,  4.,  6.,  3., 10.,  5.,  9.,  0., nan])"
      ]
     },
     "execution_count": 52,
     "metadata": {},
     "output_type": "execute_result"
    }
   ],
   "source": [
    "#Valores de la columna con valores ausentes\n",
    "df['tenure'].unique()"
   ]
  },
  {
   "cell_type": "markdown",
   "metadata": {},
   "source": [
    "Por la información suministrada, los datos de la columna `tenure`, es el período durante el cual ha madurado el depósito a plazo fijo de un cliente (años). Quiere decir, que si no tenemos un valor es porque corresponde a 0 años."
   ]
  },
  {
   "cell_type": "code",
   "execution_count": 53,
   "metadata": {},
   "outputs": [],
   "source": [
    "#Reemplazar los valores ausentes por 0\n",
    "df['tenure'] = df['tenure'].fillna(0)"
   ]
  },
  {
   "cell_type": "code",
   "execution_count": 54,
   "metadata": {},
   "outputs": [
    {
     "name": "stdout",
     "output_type": "stream",
     "text": [
      "<class 'pandas.core.frame.DataFrame'>\n",
      "RangeIndex: 10000 entries, 0 to 9999\n",
      "Data columns (total 14 columns):\n",
      " #   Column           Non-Null Count  Dtype  \n",
      "---  ------           --------------  -----  \n",
      " 0   rownumber        10000 non-null  int64  \n",
      " 1   customerid       10000 non-null  int64  \n",
      " 2   surname          10000 non-null  object \n",
      " 3   creditscore      10000 non-null  int64  \n",
      " 4   geography        10000 non-null  object \n",
      " 5   gender           10000 non-null  object \n",
      " 6   age              10000 non-null  int64  \n",
      " 7   tenure           10000 non-null  float64\n",
      " 8   balance          10000 non-null  float64\n",
      " 9   numofproducts    10000 non-null  int64  \n",
      " 10  hascrcard        10000 non-null  int64  \n",
      " 11  isactivemember   10000 non-null  int64  \n",
      " 12  estimatedsalary  10000 non-null  float64\n",
      " 13  exited           10000 non-null  int64  \n",
      "dtypes: float64(3), int64(8), object(3)\n",
      "memory usage: 1.1+ MB\n"
     ]
    }
   ],
   "source": [
    "#Visualizar que la columna tenure ya no tenga valores ausentes\n",
    "df.info()"
   ]
  },
  {
   "cell_type": "markdown",
   "metadata": {},
   "source": [
    "Ya con el preprocesamiento. Los datos están listos para utilizar en los modelos."
   ]
  },
  {
   "cell_type": "markdown",
   "metadata": {},
   "source": [
    "## **Codificar y segmentar los datos**"
   ]
  },
  {
   "cell_type": "markdown",
   "metadata": {},
   "source": [
    "Para colocar a prueba los datos en un modelo sin revisar el desequilibrio, se utilizara el modelo de Bosque aleatorio, por su buena adaptabilidad a los datos.\n",
    "\n",
    "No obstante, antes de iniciar el modelado, se observó que hay columnas con datos categóricos, y que deben convertirse en numéricos. Para ello, se aplicará una codificación de etiquetas que posibilita la transformación de datos categóricos en datos numéricos y el tipo de codificación que se aplicará, será el siguiente:\n",
    "\n",
    "- Codificación ordinal: asigna un número a cada categoría, de modo que las categorías se ordenan de manera significativa.\n",
    "\n",
    "De esta manera, para el modelo sera mucho más optimo el entrenamiento y predicción de los datos."
   ]
  },
  {
   "cell_type": "code",
   "execution_count": 55,
   "metadata": {},
   "outputs": [],
   "source": [
    "#Codificación de etiquetas\n",
    "encoder = OrdinalEncoder()\n",
    "\n",
    "df_ord = pd.DataFrame(encoder.fit_transform(df), columns=df.columns)"
   ]
  },
  {
   "cell_type": "code",
   "execution_count": 56,
   "metadata": {},
   "outputs": [],
   "source": [
    "#Separar los datos\n",
    "features = df_ord.drop(['exited'], axis = 1)\n",
    "target = df_ord['exited']\n",
    "\n",
    "#Datos de entrenamiento y validación\n",
    "x_train, x_valid, y_train, y_valid = train_test_split(features, target, random_state=42, test_size = 0.25)\n",
    "\n",
    "#Datos de testeo\n",
    "x_train, x_test, y_train, y_test = train_test_split(x_train, y_train, random_state = 42, test_size = 0.25)"
   ]
  },
  {
   "cell_type": "code",
   "execution_count": 57,
   "metadata": {},
   "outputs": [
    {
     "name": "stdout",
     "output_type": "stream",
     "text": [
      "El tamaño de la data para el entrenamiento es de (5625, 13)\n",
      "El tamaño de la data para el validación es de (2500, 13)\n",
      "El tamaño de la data para el testeo es de (1875, 13)\n"
     ]
    }
   ],
   "source": [
    "data_uses = {\n",
    "    'entrenamiento': x_train,\n",
    "    'validación': x_valid,\n",
    "    'testeo': x_test,\n",
    "}\n",
    "\n",
    "for key, value in data_uses.items():\n",
    "    print('El tamaño de la data para el {} es de {}'.format(key, value.shape))"
   ]
  },
  {
   "cell_type": "markdown",
   "metadata": {},
   "source": [
    "## **Entrenar modelos**"
   ]
  },
  {
   "cell_type": "markdown",
   "metadata": {},
   "source": [
    "### **Entrenar modelo con desequilibrio**"
   ]
  },
  {
   "cell_type": "code",
   "execution_count": 58,
   "metadata": {},
   "outputs": [],
   "source": [
    "#Modelo prueba\n",
    "rf = RandomForestClassifier(random_state=42, max_depth= 11, n_estimators= 41)"
   ]
  },
  {
   "cell_type": "code",
   "execution_count": 59,
   "metadata": {},
   "outputs": [
    {
     "data": {
      "text/html": [
       "<style>#sk-container-id-3 {color: black;}#sk-container-id-3 pre{padding: 0;}#sk-container-id-3 div.sk-toggleable {background-color: white;}#sk-container-id-3 label.sk-toggleable__label {cursor: pointer;display: block;width: 100%;margin-bottom: 0;padding: 0.3em;box-sizing: border-box;text-align: center;}#sk-container-id-3 label.sk-toggleable__label-arrow:before {content: \"▸\";float: left;margin-right: 0.25em;color: #696969;}#sk-container-id-3 label.sk-toggleable__label-arrow:hover:before {color: black;}#sk-container-id-3 div.sk-estimator:hover label.sk-toggleable__label-arrow:before {color: black;}#sk-container-id-3 div.sk-toggleable__content {max-height: 0;max-width: 0;overflow: hidden;text-align: left;background-color: #f0f8ff;}#sk-container-id-3 div.sk-toggleable__content pre {margin: 0.2em;color: black;border-radius: 0.25em;background-color: #f0f8ff;}#sk-container-id-3 input.sk-toggleable__control:checked~div.sk-toggleable__content {max-height: 200px;max-width: 100%;overflow: auto;}#sk-container-id-3 input.sk-toggleable__control:checked~label.sk-toggleable__label-arrow:before {content: \"▾\";}#sk-container-id-3 div.sk-estimator input.sk-toggleable__control:checked~label.sk-toggleable__label {background-color: #d4ebff;}#sk-container-id-3 div.sk-label input.sk-toggleable__control:checked~label.sk-toggleable__label {background-color: #d4ebff;}#sk-container-id-3 input.sk-hidden--visually {border: 0;clip: rect(1px 1px 1px 1px);clip: rect(1px, 1px, 1px, 1px);height: 1px;margin: -1px;overflow: hidden;padding: 0;position: absolute;width: 1px;}#sk-container-id-3 div.sk-estimator {font-family: monospace;background-color: #f0f8ff;border: 1px dotted black;border-radius: 0.25em;box-sizing: border-box;margin-bottom: 0.5em;}#sk-container-id-3 div.sk-estimator:hover {background-color: #d4ebff;}#sk-container-id-3 div.sk-parallel-item::after {content: \"\";width: 100%;border-bottom: 1px solid gray;flex-grow: 1;}#sk-container-id-3 div.sk-label:hover label.sk-toggleable__label {background-color: #d4ebff;}#sk-container-id-3 div.sk-serial::before {content: \"\";position: absolute;border-left: 1px solid gray;box-sizing: border-box;top: 0;bottom: 0;left: 50%;z-index: 0;}#sk-container-id-3 div.sk-serial {display: flex;flex-direction: column;align-items: center;background-color: white;padding-right: 0.2em;padding-left: 0.2em;position: relative;}#sk-container-id-3 div.sk-item {position: relative;z-index: 1;}#sk-container-id-3 div.sk-parallel {display: flex;align-items: stretch;justify-content: center;background-color: white;position: relative;}#sk-container-id-3 div.sk-item::before, #sk-container-id-3 div.sk-parallel-item::before {content: \"\";position: absolute;border-left: 1px solid gray;box-sizing: border-box;top: 0;bottom: 0;left: 50%;z-index: -1;}#sk-container-id-3 div.sk-parallel-item {display: flex;flex-direction: column;z-index: 1;position: relative;background-color: white;}#sk-container-id-3 div.sk-parallel-item:first-child::after {align-self: flex-end;width: 50%;}#sk-container-id-3 div.sk-parallel-item:last-child::after {align-self: flex-start;width: 50%;}#sk-container-id-3 div.sk-parallel-item:only-child::after {width: 0;}#sk-container-id-3 div.sk-dashed-wrapped {border: 1px dashed gray;margin: 0 0.4em 0.5em 0.4em;box-sizing: border-box;padding-bottom: 0.4em;background-color: white;}#sk-container-id-3 div.sk-label label {font-family: monospace;font-weight: bold;display: inline-block;line-height: 1.2em;}#sk-container-id-3 div.sk-label-container {text-align: center;}#sk-container-id-3 div.sk-container {/* jupyter's `normalize.less` sets `[hidden] { display: none; }` but bootstrap.min.css set `[hidden] { display: none !important; }` so we also need the `!important` here to be able to override the default hidden behavior on the sphinx rendered scikit-learn.org. See: https://github.com/scikit-learn/scikit-learn/issues/21755 */display: inline-block !important;position: relative;}#sk-container-id-3 div.sk-text-repr-fallback {display: none;}</style><div id=\"sk-container-id-3\" class=\"sk-top-container\"><div class=\"sk-text-repr-fallback\"><pre>RandomForestClassifier(max_depth=11, n_estimators=41, random_state=42)</pre><b>In a Jupyter environment, please rerun this cell to show the HTML representation or trust the notebook. <br />On GitHub, the HTML representation is unable to render, please try loading this page with nbviewer.org.</b></div><div class=\"sk-container\" hidden><div class=\"sk-item\"><div class=\"sk-estimator sk-toggleable\"><input class=\"sk-toggleable__control sk-hidden--visually\" id=\"sk-estimator-id-3\" type=\"checkbox\" checked><label for=\"sk-estimator-id-3\" class=\"sk-toggleable__label sk-toggleable__label-arrow\">RandomForestClassifier</label><div class=\"sk-toggleable__content\"><pre>RandomForestClassifier(max_depth=11, n_estimators=41, random_state=42)</pre></div></div></div></div></div>"
      ],
      "text/plain": [
       "RandomForestClassifier(max_depth=11, n_estimators=41, random_state=42)"
      ]
     },
     "execution_count": 59,
     "metadata": {},
     "output_type": "execute_result"
    }
   ],
   "source": [
    "#Entrenar modelo\n",
    "rf.fit(x_train, y_train)"
   ]
  },
  {
   "cell_type": "code",
   "execution_count": 60,
   "metadata": {},
   "outputs": [],
   "source": [
    "#Predicciones del modelo\n",
    "predict_valid = rf.predict(x_valid)"
   ]
  },
  {
   "cell_type": "code",
   "execution_count": 61,
   "metadata": {},
   "outputs": [
    {
     "name": "stdout",
     "output_type": "stream",
     "text": [
      "F1: 0.5315436241610738\n",
      "Curva ROC: 0.6867138929432812\n"
     ]
    }
   ],
   "source": [
    "#Calculo de métricas\n",
    "print('F1:',f1_score(y_valid, predict_valid))\n",
    "print('Curva ROC:', roc_auc_score(y_valid, predict_valid))"
   ]
  },
  {
   "cell_type": "markdown",
   "metadata": {},
   "source": [
    "Sin verificar el desequilibrio de las clases en el modelo, arrojo 0.7 en la curva ROC, que representa un 70% de probabilidad que el modelo pueda distinguir entre clase positiva y negativa, pero el modelo tiene un 57.4% en rendimiento del modelo. Es decir, en lineas generales el modelo puede mejorar la calidad de sus métricas y así poder cumplir con los objetivos planteados."
   ]
  },
  {
   "cell_type": "markdown",
   "metadata": {},
   "source": [
    "### **Entrenar modelo sin desequilibrio**"
   ]
  },
  {
   "cell_type": "markdown",
   "metadata": {},
   "source": [
    "Se entrenaran los siguientes modelos de clasificación:\n",
    "- Árbol de decisiones\n",
    "- Bosque aleatorio\n",
    "- Regresión logística"
   ]
  },
  {
   "cell_type": "markdown",
   "metadata": {},
   "source": [
    "Antes de crear un modelo para mejorar la calidad de las métricas, es necesario aplicar un escalado de características. Este escalado se usa para cambiar los datos de manera que todas las características tengan el mismo nivel. Ahora bien, los beneficias de realizar un escalado son los siguientes:\n",
    "\n",
    "- Puede mejorar la precisión del modelo: ayuda a los algoritmos de aprendizaje automático a aprender patrones más precisos en los datos.\n",
    "- Puede mejorar la interpretabilidad del modelo: resultados más fáciles de interpretar."
   ]
  },
  {
   "cell_type": "markdown",
   "metadata": {},
   "source": [
    "### **Escalado de Características**"
   ]
  },
  {
   "cell_type": "code",
   "execution_count": 62,
   "metadata": {},
   "outputs": [],
   "source": [
    "#Separar las características numéricas para aplicar el escalado\n",
    "numeric = ['rownumber', 'customerid', 'creditscore',\n",
    "           'age', 'tenure', 'balance', 'numofproducts', 'hascrcard',\n",
    "           'isactivemember', 'estimatedsalary']"
   ]
  },
  {
   "cell_type": "code",
   "execution_count": 63,
   "metadata": {},
   "outputs": [
    {
     "data": {
      "text/html": [
       "<style>#sk-container-id-4 {color: black;}#sk-container-id-4 pre{padding: 0;}#sk-container-id-4 div.sk-toggleable {background-color: white;}#sk-container-id-4 label.sk-toggleable__label {cursor: pointer;display: block;width: 100%;margin-bottom: 0;padding: 0.3em;box-sizing: border-box;text-align: center;}#sk-container-id-4 label.sk-toggleable__label-arrow:before {content: \"▸\";float: left;margin-right: 0.25em;color: #696969;}#sk-container-id-4 label.sk-toggleable__label-arrow:hover:before {color: black;}#sk-container-id-4 div.sk-estimator:hover label.sk-toggleable__label-arrow:before {color: black;}#sk-container-id-4 div.sk-toggleable__content {max-height: 0;max-width: 0;overflow: hidden;text-align: left;background-color: #f0f8ff;}#sk-container-id-4 div.sk-toggleable__content pre {margin: 0.2em;color: black;border-radius: 0.25em;background-color: #f0f8ff;}#sk-container-id-4 input.sk-toggleable__control:checked~div.sk-toggleable__content {max-height: 200px;max-width: 100%;overflow: auto;}#sk-container-id-4 input.sk-toggleable__control:checked~label.sk-toggleable__label-arrow:before {content: \"▾\";}#sk-container-id-4 div.sk-estimator input.sk-toggleable__control:checked~label.sk-toggleable__label {background-color: #d4ebff;}#sk-container-id-4 div.sk-label input.sk-toggleable__control:checked~label.sk-toggleable__label {background-color: #d4ebff;}#sk-container-id-4 input.sk-hidden--visually {border: 0;clip: rect(1px 1px 1px 1px);clip: rect(1px, 1px, 1px, 1px);height: 1px;margin: -1px;overflow: hidden;padding: 0;position: absolute;width: 1px;}#sk-container-id-4 div.sk-estimator {font-family: monospace;background-color: #f0f8ff;border: 1px dotted black;border-radius: 0.25em;box-sizing: border-box;margin-bottom: 0.5em;}#sk-container-id-4 div.sk-estimator:hover {background-color: #d4ebff;}#sk-container-id-4 div.sk-parallel-item::after {content: \"\";width: 100%;border-bottom: 1px solid gray;flex-grow: 1;}#sk-container-id-4 div.sk-label:hover label.sk-toggleable__label {background-color: #d4ebff;}#sk-container-id-4 div.sk-serial::before {content: \"\";position: absolute;border-left: 1px solid gray;box-sizing: border-box;top: 0;bottom: 0;left: 50%;z-index: 0;}#sk-container-id-4 div.sk-serial {display: flex;flex-direction: column;align-items: center;background-color: white;padding-right: 0.2em;padding-left: 0.2em;position: relative;}#sk-container-id-4 div.sk-item {position: relative;z-index: 1;}#sk-container-id-4 div.sk-parallel {display: flex;align-items: stretch;justify-content: center;background-color: white;position: relative;}#sk-container-id-4 div.sk-item::before, #sk-container-id-4 div.sk-parallel-item::before {content: \"\";position: absolute;border-left: 1px solid gray;box-sizing: border-box;top: 0;bottom: 0;left: 50%;z-index: -1;}#sk-container-id-4 div.sk-parallel-item {display: flex;flex-direction: column;z-index: 1;position: relative;background-color: white;}#sk-container-id-4 div.sk-parallel-item:first-child::after {align-self: flex-end;width: 50%;}#sk-container-id-4 div.sk-parallel-item:last-child::after {align-self: flex-start;width: 50%;}#sk-container-id-4 div.sk-parallel-item:only-child::after {width: 0;}#sk-container-id-4 div.sk-dashed-wrapped {border: 1px dashed gray;margin: 0 0.4em 0.5em 0.4em;box-sizing: border-box;padding-bottom: 0.4em;background-color: white;}#sk-container-id-4 div.sk-label label {font-family: monospace;font-weight: bold;display: inline-block;line-height: 1.2em;}#sk-container-id-4 div.sk-label-container {text-align: center;}#sk-container-id-4 div.sk-container {/* jupyter's `normalize.less` sets `[hidden] { display: none; }` but bootstrap.min.css set `[hidden] { display: none !important; }` so we also need the `!important` here to be able to override the default hidden behavior on the sphinx rendered scikit-learn.org. See: https://github.com/scikit-learn/scikit-learn/issues/21755 */display: inline-block !important;position: relative;}#sk-container-id-4 div.sk-text-repr-fallback {display: none;}</style><div id=\"sk-container-id-4\" class=\"sk-top-container\"><div class=\"sk-text-repr-fallback\"><pre>StandardScaler()</pre><b>In a Jupyter environment, please rerun this cell to show the HTML representation or trust the notebook. <br />On GitHub, the HTML representation is unable to render, please try loading this page with nbviewer.org.</b></div><div class=\"sk-container\" hidden><div class=\"sk-item\"><div class=\"sk-estimator sk-toggleable\"><input class=\"sk-toggleable__control sk-hidden--visually\" id=\"sk-estimator-id-4\" type=\"checkbox\" checked><label for=\"sk-estimator-id-4\" class=\"sk-toggleable__label sk-toggleable__label-arrow\">StandardScaler</label><div class=\"sk-toggleable__content\"><pre>StandardScaler()</pre></div></div></div></div></div>"
      ],
      "text/plain": [
       "StandardScaler()"
      ]
     },
     "execution_count": 63,
     "metadata": {},
     "output_type": "execute_result"
    }
   ],
   "source": [
    "#Modelo a utilizar para el escalado\n",
    "scaler = StandardScaler()\n",
    "scaler.fit(x_train[numeric])"
   ]
  },
  {
   "cell_type": "code",
   "execution_count": 64,
   "metadata": {},
   "outputs": [],
   "source": [
    "#Aplicar el solo a las características (valores x)\n",
    "x_train[numeric] = scaler.transform(x_train[numeric])\n",
    "x_valid[numeric] = scaler.transform(x_valid[numeric])\n",
    "x_test[numeric] = scaler.transform(x_test[numeric])"
   ]
  },
  {
   "cell_type": "markdown",
   "metadata": {},
   "source": [
    "Por ultimo, para poder comenzar con el modelado, es necesario verificar si realmente hay desequilibrio en los datos, porque los modelos pueden aprender a centrarse en la clase mayoritaria e ignorar la clase minoritaria. Esto puede conducir a un sesgo en las predicciones de los modelos, lo que puede ser perjudicial para la toma de decisiones. Para evitar el desequilibrio, se aplicara un sobremuestreo, buscando mejorar la eficiencia de los modelos al calcular sus métricas. \n",
    "\n",
    "El sobremuestreo es una técnica de remuestreo que se utiliza para aumentar el número de ejemplos de una clase minoritaria en un conjunto de datos desbalanceado"
   ]
  },
  {
   "cell_type": "markdown",
   "metadata": {},
   "source": [
    "### **Sobremuestreo**"
   ]
  },
  {
   "cell_type": "code",
   "execution_count": 65,
   "metadata": {},
   "outputs": [
    {
     "data": {
      "text/plain": [
       "0.0    79.63\n",
       "1.0    20.37\n",
       "Name: exited, dtype: float64"
      ]
     },
     "execution_count": 65,
     "metadata": {},
     "output_type": "execute_result"
    }
   ],
   "source": [
    "#Verificar estatus de las clases\n",
    "target.value_counts(normalize = True) * 100"
   ]
  },
  {
   "cell_type": "markdown",
   "metadata": {},
   "source": [
    "Las clases tienen una inclinación hacia los 0, bastante pronunciada, sí es necesario aplicar un sobremuestreo."
   ]
  },
  {
   "cell_type": "code",
   "execution_count": 66,
   "metadata": {},
   "outputs": [],
   "source": [
    "def upsample(x, y, repeat):\n",
    "    '''\n",
    "    Aplicar de forma automática el sobremuestreo de las clases\n",
    "    '''\n",
    "    #Dividir el conjunto de datos en notas negativas y positivas\n",
    "    x_zeros = x[y == 0]\n",
    "    x_ones = x[y == 1]\n",
    "    y_zeros = y[y == 0]\n",
    "    y_ones = y[y == 1]\n",
    "    \n",
    "    #Concatenar y duplicar los datos\n",
    "    x_upsampled = pd.concat([x_zeros]+ [x_ones] * repeat)\n",
    "    y_upsampled = pd.concat([y_zeros] + [y_ones] * repeat)\n",
    "    \n",
    "    #Mezclar los datos\n",
    "    x_upsampled, y_upsampled = shuffle(x_upsampled, y_upsampled, random_state = 42)\n",
    "    \n",
    "    return x_upsampled, y_upsampled"
   ]
  },
  {
   "cell_type": "code",
   "execution_count": 67,
   "metadata": {},
   "outputs": [],
   "source": [
    "#Aplicar la funcion de upsample\n",
    "x_upsampled, y_upsampled = upsample(x_train, y_train, 5)"
   ]
  },
  {
   "cell_type": "code",
   "execution_count": 68,
   "metadata": {},
   "outputs": [
    {
     "data": {
      "text/plain": [
       "1.0    56.342154\n",
       "0.0    43.657846\n",
       "Name: exited, dtype: float64"
      ]
     },
     "execution_count": 68,
     "metadata": {},
     "output_type": "execute_result"
    }
   ],
   "source": [
    "#Verificar estatus de las clases ya con el sobremuestreo aplicado\n",
    "y_upsampled.value_counts(normalize = True) * 100"
   ]
  },
  {
   "cell_type": "markdown",
   "metadata": {},
   "source": [
    "Ya con los datos más coherentes para los modelos, los modelos que se usarán son para clasificar los puntos de datos en categorías."
   ]
  },
  {
   "cell_type": "markdown",
   "metadata": {},
   "source": [
    "### **Árbol de decisiones**"
   ]
  },
  {
   "cell_type": "code",
   "execution_count": 69,
   "metadata": {},
   "outputs": [
    {
     "name": "stdout",
     "output_type": "stream",
     "text": [
      "f1: 0.5635792778649921\n",
      "roc: 0.691711929088259\n",
      "max_depht: 5\n"
     ]
    }
   ],
   "source": [
    "#Buscar los hiperparametros que arrojan las métricas con mayor calidad\n",
    "best_f1_score = 0\n",
    "best_depth = 0\n",
    "\n",
    "for depth in range(1, 16):\n",
    "    dtc = DecisionTreeClassifier(random_state=42, max_depth= depth, class_weight= 'balanced')\n",
    "    dtc.fit(x_upsampled, y_upsampled)\n",
    "    predict = dtc.predict(x_valid)\n",
    "    f1 = f1_score(y_valid, predict)\n",
    "    roc = roc_auc_score(y_valid, predict)\n",
    "    if f1 > best_f1_score:\n",
    "        best_f1_score = f1\n",
    "        best_depth = depth\n",
    "        \n",
    "print('f1:', best_f1_score)\n",
    "print('roc:', roc)\n",
    "print('max_depht:', best_depth)"
   ]
  },
  {
   "cell_type": "code",
   "execution_count": 70,
   "metadata": {},
   "outputs": [],
   "source": [
    "#Modelo\n",
    "dtc = DecisionTreeClassifier(random_state=42, max_depth= best_depth, class_weight='balanced')"
   ]
  },
  {
   "cell_type": "code",
   "execution_count": 71,
   "metadata": {},
   "outputs": [],
   "source": [
    "#Entrenar modelo\n",
    "dtc.fit(x_upsampled, y_upsampled)\n",
    "probabilities_valid = dtc.predict_proba(x_valid) #Predicciones con predict_proba para ajustar el umbral y mejorar las métricas del modelo\n",
    "probabilities_one_valid = probabilities_valid[:, 1]\n",
    "\n",
    "best_f1_dtc = 0\n",
    "best_threshold_dtc = 0\n",
    "\n",
    "#Calcular métricas\n",
    "for threshold in np.arange(0, 0.5, 0.02):\n",
    "    predicted_valid = probabilities_one_valid > threshold\n",
    "    f1 = f1_score(y_valid, predicted_valid)\n",
    "    roc_dtc = round(roc_auc_score(y_valid, predicted_valid),3)\n",
    "    if f1 > best_f1_dtc:\n",
    "        best_f1_dtc = round(f1,3)\n",
    "        best_threshold_dtc = threshold"
   ]
  },
  {
   "cell_type": "code",
   "execution_count": 72,
   "metadata": {},
   "outputs": [
    {
     "name": "stdout",
     "output_type": "stream",
     "text": [
      "Árbol de decisiones, valor de F1: 0.563\n",
      "Árbol de decisiones, valor de ROC: 0.756\n",
      "Árbol de decisiones, umbral final: 0.44\n"
     ]
    }
   ],
   "source": [
    "print('Árbol de decisiones, valor de F1:',best_f1_dtc)\n",
    "print('Árbol de decisiones, valor de ROC:',roc_dtc)\n",
    "print('Árbol de decisiones, umbral final:',best_threshold_dtc)"
   ]
  },
  {
   "cell_type": "markdown",
   "metadata": {},
   "source": [
    "### **Bosque aleatorio**"
   ]
  },
  {
   "cell_type": "code",
   "execution_count": 73,
   "metadata": {},
   "outputs": [],
   "source": [
    "#Buscar los hiperparametros que arrojan las métricas con mayor calidad\n",
    "best_f1_score = 0\n",
    "best_est = 0\n",
    "best_depth = 0\n",
    "\n",
    "for est in range(1, 50, 10):\n",
    "    for depth in range(1, 14):\n",
    "        rfc= RandomForestClassifier(random_state= 42, n_estimators= est, max_depth= depth, class_weight= 'balanced')\n",
    "        rfc.fit(x_upsampled, y_upsampled)\n",
    "        predict = rfc.predict(x_valid)\n",
    "        f1 = f1_score(y_valid, predict)\n",
    "        roc = roc_auc_score(y_valid, predict)\n",
    "        if f1 > best_f1_score:\n",
    "            best_f1_score = f1\n",
    "            best_est = est\n",
    "            best_depth = depth\n",
    "            best_roc = roc"
   ]
  },
  {
   "cell_type": "code",
   "execution_count": 74,
   "metadata": {},
   "outputs": [
    {
     "name": "stdout",
     "output_type": "stream",
     "text": [
      "F1 del mejor modelo 0.6111111111111112\n",
      "ROC del mejor modelo 0.7591851659131021\n",
      "n_estimators 41\n",
      "max_depht 12\n"
     ]
    }
   ],
   "source": [
    "print('F1 del mejor modelo {}'.format(best_f1_score))\n",
    "print('ROC del mejor modelo {}'.format(best_roc))\n",
    "print('n_estimators {}'.format(best_est))\n",
    "print('max_depht {}'.format(best_depth))"
   ]
  },
  {
   "cell_type": "code",
   "execution_count": 75,
   "metadata": {},
   "outputs": [],
   "source": [
    "#Modelo\n",
    "rfc = RandomForestClassifier(random_state= 42, max_depth= best_depth, n_estimators= best_est, class_weight= 'balanced')"
   ]
  },
  {
   "cell_type": "code",
   "execution_count": 76,
   "metadata": {},
   "outputs": [],
   "source": [
    "#Entrenar modelo\n",
    "rfc.fit(x_upsampled, y_upsampled)\n",
    "probabilities_valid = rfc.predict_proba(x_valid) #Predicciones con predict_proba para ajustar el umbral y mejorar las métricas del modelo\n",
    "probabilities_one_valid = probabilities_valid[:, 1]\n",
    "\n",
    "best_f1_rfc = 0\n",
    "\n",
    "#Calcular métricas\n",
    "for threshold in np.arange(0, 0.5, 0.02):\n",
    "    predicted_valid = probabilities_one_valid > threshold\n",
    "    f1 = f1_score(y_valid, predicted_valid)\n",
    "    roc_rfc = round(roc_auc_score(y_valid, predicted_valid),3)\n",
    "    if f1 > best_f1_rfc:\n",
    "        best_f1_rfc = round(f1,3)\n",
    "        best_threshold_rfc = threshold"
   ]
  },
  {
   "cell_type": "code",
   "execution_count": 77,
   "metadata": {},
   "outputs": [
    {
     "name": "stdout",
     "output_type": "stream",
     "text": [
      "Bosque aleatorio, valor de F1: 0.601\n",
      "Bosque aleatorio, valor de ROC: 0.759\n",
      "Bosque aleatorio, umbral final: 0.44\n"
     ]
    }
   ],
   "source": [
    "print('Bosque aleatorio, valor de F1:',best_f1_rfc)\n",
    "print('Bosque aleatorio, valor de ROC:',roc_rfc)\n",
    "print('Bosque aleatorio, umbral final:',best_threshold_rfc)"
   ]
  },
  {
   "cell_type": "markdown",
   "metadata": {},
   "source": [
    "### **Regresión logística**"
   ]
  },
  {
   "cell_type": "code",
   "execution_count": 78,
   "metadata": {},
   "outputs": [],
   "source": [
    "#Modelo\n",
    "lr= LogisticRegression(random_state=12345, solver='liblinear')\n"
   ]
  },
  {
   "cell_type": "code",
   "execution_count": 79,
   "metadata": {},
   "outputs": [],
   "source": [
    "#Entrenar modelo\n",
    "lr.fit(x_upsampled, y_upsampled)\n",
    "probabilities_valid = lr.predict_proba(x_valid) #Predicciones con predict_proba para ajustar el umbral y mejorar las métricas del modelo\n",
    "probabilities_one_valid = probabilities_valid[:, 1]\n",
    "\n",
    "best_f1_lr = 0\n",
    "\n",
    "#Calcular métricas\n",
    "for threshold in np.arange(0, 0.5, 0.02):\n",
    "    predicted_valid = probabilities_one_valid > threshold\n",
    "    f1 = f1_score(y_valid, predicted_valid)\n",
    "    roc_lr = round(roc_auc_score(y_valid, predicted_valid),3)\n",
    "    if f1 > best_f1_lr:\n",
    "        best_f1_lr = round(f1,3)\n",
    "        best_threshold_lr = threshold"
   ]
  },
  {
   "cell_type": "code",
   "execution_count": 80,
   "metadata": {},
   "outputs": [
    {
     "name": "stdout",
     "output_type": "stream",
     "text": [
      "Regresión logística, valor de F1: 0.441\n",
      "Regresión logística, valor de ROC: 0.672\n",
      "Regresión logística, umbral final: 0.48\n"
     ]
    }
   ],
   "source": [
    "print('Regresión logística, valor de F1:',best_f1_lr)\n",
    "print('Regresión logística, valor de ROC:',roc_lr)\n",
    "print('Regresión logística, umbral final:',best_threshold_lr)"
   ]
  },
  {
   "cell_type": "markdown",
   "metadata": {},
   "source": [
    "## **Seleccionar el modelo con mayor calidad**"
   ]
  },
  {
   "cell_type": "code",
   "execution_count": 81,
   "metadata": {},
   "outputs": [
    {
     "data": {
      "text/html": [
       "<div>\n",
       "<style scoped>\n",
       "    .dataframe tbody tr th:only-of-type {\n",
       "        vertical-align: middle;\n",
       "    }\n",
       "\n",
       "    .dataframe tbody tr th {\n",
       "        vertical-align: top;\n",
       "    }\n",
       "\n",
       "    .dataframe thead th {\n",
       "        text-align: right;\n",
       "    }\n",
       "</style>\n",
       "<table border=\"1\" class=\"dataframe\">\n",
       "  <thead>\n",
       "    <tr style=\"text-align: right;\">\n",
       "      <th></th>\n",
       "      <th>models</th>\n",
       "      <th>f1</th>\n",
       "      <th>roc</th>\n",
       "    </tr>\n",
       "  </thead>\n",
       "  <tbody>\n",
       "    <tr>\n",
       "      <th>1</th>\n",
       "      <td>RandomForestClassifier</td>\n",
       "      <td>0.601</td>\n",
       "      <td>0.759</td>\n",
       "    </tr>\n",
       "    <tr>\n",
       "      <th>0</th>\n",
       "      <td>DecisionTreeClassifier</td>\n",
       "      <td>0.563</td>\n",
       "      <td>0.756</td>\n",
       "    </tr>\n",
       "    <tr>\n",
       "      <th>2</th>\n",
       "      <td>LogisticRegression</td>\n",
       "      <td>0.441</td>\n",
       "      <td>0.672</td>\n",
       "    </tr>\n",
       "  </tbody>\n",
       "</table>\n",
       "</div>"
      ],
      "text/plain": [
       "                   models     f1    roc\n",
       "1  RandomForestClassifier  0.601  0.759\n",
       "0  DecisionTreeClassifier  0.563  0.756\n",
       "2      LogisticRegression  0.441  0.672"
      ]
     },
     "execution_count": 81,
     "metadata": {},
     "output_type": "execute_result"
    }
   ],
   "source": [
    "models = pd.DataFrame(\n",
    "    {\n",
    "        'models' : ['DecisionTreeClassifier' ,'RandomForestClassifier', 'LogisticRegression'],\n",
    "        'f1' : [best_f1_dtc, best_f1_rfc, best_f1_lr],\n",
    "        'roc' : [roc_dtc, roc_rfc, roc_lr]\n",
    "    }\n",
    ")\n",
    "models = models.sort_values('f1', ascending= False)\n",
    "models"
   ]
  },
  {
   "cell_type": "code",
   "execution_count": 82,
   "metadata": {},
   "outputs": [
    {
     "data": {
      "image/png": "[encoded data removed]",
      "text/plain": [
       "<Figure size 700x400 with 1 Axes>"
      ]
     },
     "metadata": {},
     "output_type": "display_data"
    }
   ],
   "source": [
    "fig = plt.figure(figsize=(7, 4))\n",
    "ax = sns.barplot(\n",
    "    data = models,\n",
    "    x = 'models',\n",
    "    y = 'f1',\n",
    "    ax=fig.add_subplot(),\n",
    "    )\n",
    "plt.bar_label(ax.containers[0], fmt='%.3f')\n",
    "plt.title('f1 score per model', fontweight = 'bold')\n",
    "plt.ylim(0, 0.7)\n",
    "plt.ylabel('f1 score')\n",
    "plt.xlabel('')\n",
    "plt.show()"
   ]
  },
  {
   "cell_type": "markdown",
   "metadata": {},
   "source": [
    "El modelo con mejor calidad en las métricas y que cumple con los objetivos establecidos es el Bosque aleatorio con un score de f1 0.601 y roc de 0.759."
   ]
  },
  {
   "cell_type": "markdown",
   "metadata": {},
   "source": [
    "Ya teniendo el mejor modelo, se aplicará con los datos de testeo para evaluar la calidad de sus métricas y si cumple con los objetivos planteados."
   ]
  },
  {
   "cell_type": "markdown",
   "metadata": {},
   "source": [
    "## **Mejor Modelo**"
   ]
  },
  {
   "cell_type": "code",
   "execution_count": 83,
   "metadata": {},
   "outputs": [],
   "source": [
    "#Mejor modelo\n",
    "rfc = RandomForestClassifier(random_state= 42, max_depth= 12, n_estimators= 41, class_weight= 'balanced')\n",
    "\n",
    "rfc.fit(x_upsampled, y_upsampled)\n",
    "probabilities_test = rfc.predict_proba(x_test)\n",
    "probabilities_one_test = probabilities_test[:, 1]\n",
    "\n",
    "best_f1_rfc = 0\n",
    "\n",
    "#Calcular métricas\n",
    "for threshold in np.arange(0.0, 0.5, 0.02):\n",
    "    predicted_test = probabilities_one_test > threshold\n",
    "    f1 = round(f1_score(y_test, predicted_test),3)\n",
    "    roc_rfc = round(roc_auc_score(y_test, predicted_test),3)\n",
    "    r = round(recall_score(y_test, predicted_test),3)\n",
    "    p = round(precision_score(y_test, predicted_test),3)\n",
    "    if f1 > best_f1_rfc:\n",
    "        best_f1_rfc = f1\n",
    "        best_roc_rfc = roc_rfc\n",
    "        best_threshold_rfc = threshold\n",
    "        best_r = r\n",
    "        best_p = p"
   ]
  },
  {
   "cell_type": "code",
   "execution_count": 84,
   "metadata": {},
   "outputs": [
    {
     "name": "stdout",
     "output_type": "stream",
     "text": [
      "Bosque aleatorio, valor de F1: 0.606\n",
      "Bosque aleatorio, valor de ROC: 0.758\n",
      "Bosque aleatorio, valor de Recall: 0.635\n",
      "Bosque aleatorio, valor de Precision: 0.579\n",
      "Bosque aleatorio, umbral final: 0.48\n"
     ]
    }
   ],
   "source": [
    "print('Bosque aleatorio, valor de F1:',best_f1_rfc)\n",
    "print('Bosque aleatorio, valor de ROC:',best_roc_rfc)\n",
    "print('Bosque aleatorio, valor de Recall:',best_r)\n",
    "print('Bosque aleatorio, valor de Precision:',best_p)\n",
    "print('Bosque aleatorio, umbral final:',best_threshold_rfc)"
   ]
  },
  {
   "cell_type": "markdown",
   "metadata": {},
   "source": [
    "## **Conclusiones**"
   ]
  },
  {
   "cell_type": "markdown",
   "metadata": {},
   "source": [
    "1. **Visualización:** Una base de datos con un tamaño de 10000 filas, donde solo en la columna `tenure` habían 91 valores ausentes, no hay daos duplicados y los encabezados tienen letras mayúsculas."
   ]
  },
  {
   "cell_type": "markdown",
   "metadata": {},
   "source": [
    "2. **Preprocesamiento:** Se reemplazaron los valores ausentes en la columna `tenure` con 0 años, los encabezados con mayúsculas fueron convertidos a minúsculas para facilitar la redacción en el código."
   ]
  },
  {
   "cell_type": "markdown",
   "metadata": {},
   "source": [
    "3. **Codificación y segmentación:** en la codificación para mejorar la lectura de los modelos se utilizo una codificación ordinal y para la segmentación los datos fueron separados en 75% para el entrenamiento y 25% para la validación."
   ]
  },
  {
   "cell_type": "markdown",
   "metadata": {},
   "source": [
    "4. **Modelado:** En el modelado de prueba se utilizo un bosque aleatorio por su gran capacidad para adaptarse a los datos y sin emplear enfoques para mejorar el desequilibrio de los valores. Los resultados de las métricas fueron los siguientes:\n",
    "\n",
    "| Modelo | F1 | ROC |\n",
    "|---|---|---|\n",
    "| Bosque aleatorio | 0.531 | 0.686 |\n",
    "\n",
    "Ahora bien, se midieron tres modelos:\n",
    "- Árbol de decisiones\n",
    "- Bosque aleatorio\n",
    "- Regresión logística\n",
    "\n",
    "Y para mejorar la calidad de las métricas, se utilizaron tres enfoques:\n",
    "- Escalado de características: se utilizo un escalado estándar que se enfoca en mejorar la eficiencia del aprendizaje y hacer que los datos sean más comparables.\n",
    "\n",
    "- Sobremuestreo: Se aplico, debido que las clases estaban desequilibradas hacia la clase 0 con un 79.63% y la clase 1 con 20.37%, el sobremuestreo se enfoca en evitar el sesgo y aumentar la generalización. Luego de aplicado, las clases se equilibraron en 56.36% la clase 1 y 43.63% la 0.\n",
    "\n",
    "- Disminución del umbral: El objetivo del modelo es predecir que clientes tienen mayor probabilidad de retirarse del banco. En este caso, se trata de un modelo de clasificación binaria, eso quiere decir que tener una precisión alta no es un beneficio para el modelo, puesto que se aumentarían los falsos negativos y seguirían dejando el banco los clientes sin contactar con ellos. En cambio, disminuir el umbral ayuda a que el modelo se centre en los clientes que tienen mayor probabilidad de retirarse del banco, incluso si esto significa que se contactarán a algunos clientes que no tienen la intención de retirarse y eso puede impulsar aun más su estadía. El umbral se disminuyo a 0.45 en todos los modelos.\n",
    "\n",
    "Ya aplicando los tres enfoques y realizando el calculo con todos los modelos, los resultados arrojados fueron los siguientes:\n",
    "\n",
    "| Modelos | F1 | ROC |\n",
    "|---|---|---|\n",
    "| **Bosque aleatorio** | **0.601** | **0.759** |\n",
    "| Árbol de decisiones | 0.563 | 0.756 |\n",
    "| Regresión logística | 0.441 | 0.672 |"
   ]
  },
  {
   "cell_type": "markdown",
   "metadata": {},
   "source": [
    "5. **Conclusión final:** El modelo más eficiente para predecir si un cliente dejará el banco y que cumple con los objetivos, es decir, un resultado en las métricas de f1 mayor o igual a 0.59 y un resultado mayor a 0.70 en la curva ROC, es el modelo de **bosque aleatorio** con un score en f1 de 0.60 y 0.75 en la curva ROC. El resultado de f1 indica el equilibrio entre la precision y recall, teniendo un 60.6% de ambas métricas y el valor de la curva ROC indica que el modelo es capaz de distinguir entre instancias positivas e instancias negativas con un buen grado de precisión de 75.8%."
   ]
  }
 ],
 "metadata": {
  "kernelspec": {
   "display_name": "Python 3",
   "language": "python",
   "name": "python3"
  },
  "language_info": {
   "codemirror_mode": {
    "name": "ipython",
    "version": 3
   },
   "file_extension": ".py",
   "mimetype": "text/x-python",
   "name": "python",
   "nbconvert_exporter": "python",
   "pygments_lexer": "ipython3",
   "version": "3.11.4"
  },
  "orig_nbformat": 4
 },
 "nbformat": 4,
 "nbformat_minor": 2
}
